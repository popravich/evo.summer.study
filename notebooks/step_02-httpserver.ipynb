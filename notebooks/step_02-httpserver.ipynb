{
 "cells": [
  {
   "cell_type": "code",
   "execution_count": null,
   "metadata": {
    "collapsed": false
   },
   "outputs": [
    {
     "name": "stdout",
     "output_type": "stream",
     "text": [
      "Handling GET /\n",
      "Handling GET /favicon.ico\n"
     ]
    },
    {
     "name": "stderr",
     "output_type": "stream",
     "text": [
      "127.0.0.1 - - [06/Jul/2016 07:38:04] \"GET / HTTP/1.1\" 200 -\n",
      "127.0.0.1 - - [06/Jul/2016 07:38:04] \"GET /favicon.ico HTTP/1.1\" 200 -\n"
     ]
    }
   ],
   "source": [
    "import http.server\n",
    "\n",
    "\n",
    "class SimpleHandler(http.server.BaseHTTPRequestHandler):\n",
    "    \n",
    "    def do_GET(self):\n",
    "        print(\"Handling GET\", self.path)\n",
    "\n",
    "        self.send_response(http.server.HTTPStatus.OK)\n",
    "        self.send_header('Content-type', 'text/plain')\n",
    "        self.wfile.write(b'Hello world')\n",
    "    \n",
    "server = http.server.HTTPServer(('localhost', 8082), SimpleHandler)\n",
    "try:\n",
    "    server.serve_forever()\n",
    "except KeyboardInterrupt:\n",
    "    server.shutdown()\n",
    "    server.serve_forever()\n",
    "print(\"Shut down\")"
   ]
  }
 ],
 "metadata": {
  "kernelspec": {
   "display_name": "Python 3",
   "language": "python",
   "name": "python3"
  },
  "language_info": {
   "codemirror_mode": {
    "name": "ipython",
    "version": 3
   },
   "file_extension": ".py",
   "mimetype": "text/x-python",
   "name": "python",
   "nbconvert_exporter": "python",
   "pygments_lexer": "ipython3",
   "version": "3.5.1+"
  }
 },
 "nbformat": 4,
 "nbformat_minor": 0
}
