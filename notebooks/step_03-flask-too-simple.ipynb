{
 "cells": [
  {
   "cell_type": "code",
   "execution_count": 1,
   "metadata": {
    "collapsed": false
   },
   "outputs": [],
   "source": [
    "from flask import Flask\n",
    "\n",
    "def main():\n",
    "    app = Flask(__name__)\n",
    "    app.route('/')(hello)\n",
    "    app.run()\n",
    "\n",
    "def hello():\n",
    "    return \"Hello world\"\n",
    "\n",
    "\n",
    "main()"
   ]
  },
  {
   "cell_type": "code",
   "execution_count": null,
   "metadata": {
    "collapsed": true
   },
   "outputs": [],
   "source": [
    "from flask import Flask\n",
    "\n",
    "def main():\n",
    "    app = Flask(__name__)\n",
    "    app.route('/')(hello)\n",
    "    app.run()\n",
    "    \n",
    "def hello():\n",
    "    return \"\"\"\n",
    "    <html>\n",
    "        <head>\n",
    "            <title>Hello</title>\n",
    "        </head>\n",
    "        <body>\n",
    "            <h1>Hello world</h1>\n",
    "        </body>\n",
    "    </html>\n",
    "    \"\"\"\n",
    "\n",
    "main()"
   ]
  }
 ],
 "metadata": {
  "kernelspec": {
   "display_name": "Python 3",
   "language": "python",
   "name": "python3"
  },
  "language_info": {
   "codemirror_mode": {
    "name": "ipython",
    "version": 3
   },
   "file_extension": ".py",
   "mimetype": "text/x-python",
   "name": "python",
   "nbconvert_exporter": "python",
   "pygments_lexer": "ipython3",
   "version": "3.5.1+"
  }
 },
 "nbformat": 4,
 "nbformat_minor": 0
}
